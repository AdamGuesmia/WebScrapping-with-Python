{
 "cells": [
  {
   "cell_type": "code",
   "execution_count": 61,
   "id": "1447e425",
   "metadata": {},
   "outputs": [],
   "source": [
    "# import libraries\n",
    "\n",
    "from bs4 import BeautifulSoup \n",
    "import requests\n",
    "import time\n",
    "import pandas as pd \n",
    "import datetime "
   ]
  },
  {
   "cell_type": "code",
   "execution_count": 62,
   "id": "bb70c085",
   "metadata": {},
   "outputs": [
    {
     "name": "stdout",
     "output_type": "stream",
     "text": [
      "<Response [503]>\n"
     ]
    }
   ],
   "source": [
    "# connecting to the website \n",
    "\n",
    "url = 'https://www.amazon.fr/Apple-iPhone-14-128-Go/dp/B0BDJH7J5C/ref=sr_1_4?keywords=apple+iphone+14&qid=1687621543&sprefix=apple+ip%2Caps%2C87&sr=8-4'\n",
    "response = requests.get(url)\n",
    "print(response)"
   ]
  },
  {
   "cell_type": "code",
   "execution_count": 64,
   "id": "1b04e82e",
   "metadata": {},
   "outputs": [],
   "source": [
    "headers = {\"User-Agent\": \"Mozilla/5.0 (Macintosh; Intel Mac OS X 10_15_7) AppleWebKit/605.1.15 (KHTML, like Gecko) Version/16.5.1 Safari/605.1.15\"}\n",
    "\n",
    "\n",
    "page = requests.get(url,headers=headers)\n",
    "\n",
    "\n",
    "soup1 = BeautifulSoup(page.content, \"html.parser\")\n",
    "\n",
    "\n",
    "soup2 = BeautifulSoup(soup1.prettify(), \"html.parser\")\n",
    "\n",
    "\n",
    "title = soup2.find(id=\"productTitle\").get_text()\n",
    "\n",
    "price = soup2.find(class_=\"a-offscreen\").get_text()\n",
    "\n",
    "rating = soup2.find(class_=\"a-icon a-icon-star a-star-4-5 cm-cr-review-stars-spacing-big\").get_text()\n",
    "\n",
    "availibility = soup2.find(class_='a-size-medium a-color-success').get_text()"
   ]
  },
  {
   "cell_type": "code",
   "execution_count": 65,
   "id": "9e7d5a29",
   "metadata": {},
   "outputs": [],
   "source": [
    "price = price.strip()[:6].replace (\",\",\".\")\n",
    "title = title.strip()\n",
    "rating = rating.strip()[:3].replace (\",\",\".\")\n",
    "availibility = availibility.strip()"
   ]
  },
  {
   "cell_type": "code",
   "execution_count": 66,
   "id": "9d8e230e",
   "metadata": {},
   "outputs": [
    {
     "name": "stdout",
     "output_type": "stream",
     "text": [
      "Apple iPhone 14 (128 Go) - Minuit\n",
      "829.00\n",
      "4.6\n",
      "En stock\n"
     ]
    }
   ],
   "source": [
    "print (title)\n",
    "print (price)\n",
    "print (rating)\n",
    "print(availibility)"
   ]
  },
  {
   "cell_type": "code",
   "execution_count": 67,
   "id": "0bf2c4b5",
   "metadata": {},
   "outputs": [
    {
     "name": "stdout",
     "output_type": "stream",
     "text": [
      "2023-06-24\n"
     ]
    }
   ],
   "source": [
    "today = datetime.date.today()\n",
    "print(today)"
   ]
  },
  {
   "cell_type": "code",
   "execution_count": 68,
   "id": "5c6a595d",
   "metadata": {},
   "outputs": [],
   "source": [
    "import csv \n",
    "\n",
    "header = ['Product','Price','Rating','Availibility','Date']\n",
    "data = [title,price,rating,availibility,today]\n",
    "\n",
    "with open ('amazonwebscrap.csv','w',newline ='',encoding = 'UTF8') as new_csv : \n",
    "    writer = csv.writer(new_csv)\n",
    "    writer.writerow(header)\n",
    "    writer.writerow(data)\n"
   ]
  },
  {
   "cell_type": "code",
   "execution_count": 69,
   "id": "2c564815",
   "metadata": {},
   "outputs": [
    {
     "name": "stdout",
     "output_type": "stream",
     "text": [
      "                             Product  Price  Rating Availibility        Date\n",
      "0  Apple iPhone 14 (128 Go) - Minuit  829.0     4.6     En stock  2023-06-24\n"
     ]
    }
   ],
   "source": [
    "df = pd.read_csv('amazonwebscrap.csv')\n",
    "print (df)"
   ]
  },
  {
   "cell_type": "code",
   "execution_count": 70,
   "id": "732b325d",
   "metadata": {},
   "outputs": [],
   "source": [
    "# Appending data\n",
    "\n",
    "with open ('amazonwebscrap.csv','a',newline ='',encoding = 'UTF8') as new_csv : \n",
    "    writer = csv.writer(new_csv)\n",
    "    writer.writerow(data)"
   ]
  },
  {
   "cell_type": "code",
   "execution_count": 71,
   "id": "7f1fa3f5",
   "metadata": {},
   "outputs": [],
   "source": [
    "def check_price():\n",
    "    \n",
    "    url = 'https://www.amazon.fr/Apple-iPhone-14-128-Go/dp/B0BDJH7J5C/ref=sr_1_4?keywords=apple+iphone+14&qid=1687621543&sprefix=apple+ip%2Caps%2C87&sr=8-4'\n",
    "\n",
    "    headers = {\"User-Agent\": \"Mozilla/5.0 (Macintosh; Intel Mac OS X 10_15_7) AppleWebKit/605.1.15 (KHTML, like Gecko) Version/16.5.1 Safari/605.1.15\"}\n",
    "    \n",
    "    page = requests.get(url,headers=headers)\n",
    "\n",
    "\n",
    "    soup1 = BeautifulSoup(page.content, \"html.parser\")\n",
    "\n",
    "\n",
    "    soup2 = BeautifulSoup(soup1.prettify(), \"html.parser\")\n",
    "\n",
    "\n",
    "    title = soup2.find(id=\"productTitle\").get_text()\n",
    "\n",
    "    price = soup2.find(class_=\"a-offscreen\").get_text()\n",
    "\n",
    "    rating = soup2.find(class_=\"a-icon a-icon-star a-star-4-5 cm-cr-review-stars-spacing-big\").get_text()\n",
    "\n",
    "    availibility = soup2.find(class_='a-size-medium a-color-success').get_text()\n",
    "    \n",
    "    price = price.strip()[:6].replace (\",\",\".\")\n",
    "    title = title.strip()\n",
    "    rating = rating.strip()[:3].replace (\",\",\".\")\n",
    "    availibility = availibility.strip()\n",
    "    \n",
    "    import csv \n",
    "\n",
    "    header = ['Product','Price','Rating','Availibility']\n",
    "    data = [title,price,rating,availibility]\n",
    "    \n",
    "    with open ('amazonwebscrap.csv','a+',newline ='',encoding = 'UTF8') as new_csv : \n",
    "        writer = csv.writer(new_csv)\n",
    "        writer.writerow(data)    "
   ]
  },
  {
   "cell_type": "code",
   "execution_count": null,
   "id": "1b4407b8",
   "metadata": {},
   "outputs": [],
   "source": [
    "while (True):\n",
    "    check_price()\n",
    "    time.sleep(86400)"
   ]
  },
  {
   "cell_type": "code",
   "execution_count": 73,
   "id": "3155134b",
   "metadata": {},
   "outputs": [
    {
     "name": "stdout",
     "output_type": "stream",
     "text": [
      "                             Product  Price  Rating Availibility        Date\n",
      "0  Apple iPhone 14 (128 Go) - Minuit  829.0     4.6     En stock  2023-06-24\n",
      "1  Apple iPhone 14 (128 Go) - Minuit  829.0     4.6     En stock  2023-06-24\n",
      "2  Apple iPhone 14 (128 Go) - Minuit  829.0     4.6     En stock         NaN\n"
     ]
    }
   ],
   "source": [
    "df = pd.read_csv('amazonwebscrap.csv')\n",
    "print(df)"
   ]
  }
 ],
 "metadata": {
  "kernelspec": {
   "display_name": "Python 3 (ipykernel)",
   "language": "python",
   "name": "python3"
  },
  "language_info": {
   "codemirror_mode": {
    "name": "ipython",
    "version": 3
   },
   "file_extension": ".py",
   "mimetype": "text/x-python",
   "name": "python",
   "nbconvert_exporter": "python",
   "pygments_lexer": "ipython3",
   "version": "3.10.6"
  },
  "toc": {
   "base_numbering": 1,
   "nav_menu": {},
   "number_sections": true,
   "sideBar": true,
   "skip_h1_title": false,
   "title_cell": "Table of Contents",
   "title_sidebar": "Contents",
   "toc_cell": false,
   "toc_position": {},
   "toc_section_display": true,
   "toc_window_display": false
  },
  "varInspector": {
   "cols": {
    "lenName": 16,
    "lenType": 16,
    "lenVar": 40
   },
   "kernels_config": {
    "python": {
     "delete_cmd_postfix": "",
     "delete_cmd_prefix": "del ",
     "library": "var_list.py",
     "varRefreshCmd": "print(var_dic_list())"
    },
    "r": {
     "delete_cmd_postfix": ") ",
     "delete_cmd_prefix": "rm(",
     "library": "var_list.r",
     "varRefreshCmd": "cat(var_dic_list()) "
    }
   },
   "types_to_exclude": [
    "module",
    "function",
    "builtin_function_or_method",
    "instance",
    "_Feature"
   ],
   "window_display": false
  }
 },
 "nbformat": 4,
 "nbformat_minor": 5
}
